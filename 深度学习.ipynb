{
 "cells": [
  {
   "cell_type": "markdown",
   "id": "7a41de33-3cbc-4bc9-bcb9-c4105b97e598",
   "metadata": {},
   "source": [
    "## 1 SpeechBrain"
   ]
  },
  {
   "cell_type": "markdown",
   "id": "3783b6eb-b0b3-4d6b-a2dd-2e16b43a7bb5",
   "metadata": {},
   "source": [
    "## 1.1 测试"
   ]
  },
  {
   "cell_type": "code",
   "execution_count": 1,
   "id": "236a005b-a3dd-4b9a-8846-01fd1e9bcae2",
   "metadata": {},
   "outputs": [],
   "source": [
    "import torchaudio\n",
    "import torch"
   ]
  },
  {
   "cell_type": "code",
   "execution_count": 2,
   "id": "df567311-483d-45fd-8a28-4d7f2cbec694",
   "metadata": {},
   "outputs": [
    {
     "name": "stderr",
     "output_type": "stream",
     "text": [
      "torchvision is not available - cannot save figures\n"
     ]
    }
   ],
   "source": [
    "from speechbrain.pretrained import SpeakerRecognition\n",
    "verification = SpeakerRecognition.from_hparams(source=\"speechbrain/spkrec-ecapa-voxceleb\", savedir=\"pretrained_models/spkrec-ecapa-voxceleb\")"
   ]
  },
  {
   "cell_type": "markdown",
   "id": "2f668529-2001-4e13-996e-26f953a6d869",
   "metadata": {},
   "source": [
    "#### 同一人不同句子"
   ]
  },
  {
   "cell_type": "code",
   "execution_count": 3,
   "id": "fff1e2c2-d10f-4aa4-9e03-da3d45aaa8a9",
   "metadata": {},
   "outputs": [
    {
     "name": "stdout",
     "output_type": "stream",
     "text": [
      "tensor([0.5786]) tensor([True])\n"
     ]
    }
   ],
   "source": [
    "score1, prediction1 = verification.verify_files(\"tests/samples/my_test/1.aac\", \"tests/samples/my_test/2.aac\") \n",
    "print(score1,prediction1)"
   ]
  },
  {
   "cell_type": "code",
   "execution_count": 4,
   "id": "c9766867-0b97-447f-94b3-431e0b543b64",
   "metadata": {},
   "outputs": [
    {
     "name": "stdout",
     "output_type": "stream",
     "text": [
      "tensor([0.5786]) tensor([True])\n"
     ]
    }
   ],
   "source": [
    "audio1 = verification.load_audio(\"tests/samples/my_test/1.aac\")\n",
    "audio2 = verification.load_audio(\"tests/samples/my_test/2.aac\")\n",
    "score2, prediction2 = verification.verify_batch(audio1, audio2,threshold=0.3) # 同一人不同句子\n",
    "print(score2[0],prediction2[0])"
   ]
  },
  {
   "cell_type": "markdown",
   "id": "60e61b8c-b94e-43b4-9476-24ce2985a226",
   "metadata": {},
   "source": [
    "#### 不同一人同句子"
   ]
  },
  {
   "cell_type": "code",
   "execution_count": 5,
   "id": "66341309-c0a3-4db6-b3ae-ef83a8b92d57",
   "metadata": {},
   "outputs": [
    {
     "name": "stdout",
     "output_type": "stream",
     "text": [
      "tensor([0.2450]) tensor([False])\n"
     ]
    }
   ],
   "source": [
    "audio3 = verification.load_audio(\"tests/samples/my_test/3.m4a\")\n",
    "score3, prediction3 = verification.verify_batch(audio1, audio3,threshold=0.3) \n",
    "print(score3[0],prediction3[0])"
   ]
  },
  {
   "cell_type": "markdown",
   "id": "9e949833-72a2-4263-8578-606218f5fad4",
   "metadata": {},
   "source": [
    "#### 同一人同句子"
   ]
  },
  {
   "cell_type": "code",
   "execution_count": 6,
   "id": "c25aed01-b803-46b1-a5d5-c9dc29374742",
   "metadata": {},
   "outputs": [
    {
     "name": "stdout",
     "output_type": "stream",
     "text": [
      "tensor([0.4977]) tensor([True])\n"
     ]
    }
   ],
   "source": [
    "audio4 = verification.load_audio(\"tests/samples/my_test/4.wav\")\n",
    "score4, prediction4 = verification.verify_batch(audio2, audio4,threshold=0.3) \n",
    "print(score4[0],prediction4[0])"
   ]
  },
  {
   "cell_type": "markdown",
   "id": "b0211735-9b42-40cc-9cb8-d0f915f676be",
   "metadata": {},
   "source": [
    "## 1.2 SpeechBrain模块代码"
   ]
  },
  {
   "cell_type": "markdown",
   "id": "8a4a1283-47d6-488d-94a8-1ccc6e6064b1",
   "metadata": {},
   "source": [
    "### 1.2.1 提取特征"
   ]
  },
  {
   "cell_type": "code",
   "execution_count": 7,
   "id": "c9afd1bb-cc38-4eb8-b64e-e69410b1d127",
   "metadata": {},
   "outputs": [
    {
     "data": {
      "text/plain": [
       "torch.Size([1, 1, 192])"
      ]
     },
     "execution_count": 7,
     "metadata": {},
     "output_type": "execute_result"
    }
   ],
   "source": [
    "audio1 = verification.load_audio(\"tests/samples/my_test/1.aac\")\n",
    "embeddings1 = verification.encode_batch(audio1)\n",
    "embeddings1.shape"
   ]
  },
  {
   "cell_type": "code",
   "execution_count": 8,
   "id": "120945c7-c7b8-4872-b00b-ee70f8fea7e5",
   "metadata": {},
   "outputs": [
    {
     "data": {
      "text/plain": [
       "torch.Size([1, 1, 192])"
      ]
     },
     "execution_count": 8,
     "metadata": {},
     "output_type": "execute_result"
    }
   ],
   "source": [
    "audio2 = verification.load_audio(\"tests/samples/my_test/2.aac\")\n",
    "embeddings2 = verification.encode_batch(audio2)\n",
    "embeddings2.shape"
   ]
  },
  {
   "cell_type": "code",
   "execution_count": 9,
   "id": "733c4864-bb9d-4696-b757-8650f067405b",
   "metadata": {},
   "outputs": [
    {
     "data": {
      "text/plain": [
       "torch.Size([1, 1, 192])"
      ]
     },
     "execution_count": 9,
     "metadata": {},
     "output_type": "execute_result"
    }
   ],
   "source": [
    "audio3 = verification.load_audio(\"tests/samples/my_test/3.m4a\")\n",
    "embeddings3 = verification.encode_batch(audio3)\n",
    "embeddings3.shape"
   ]
  },
  {
   "cell_type": "code",
   "execution_count": 10,
   "id": "06abf3a7-2049-4a6e-b3a3-61e8cea1f08b",
   "metadata": {},
   "outputs": [
    {
     "data": {
      "text/plain": [
       "torch.Size([1, 1, 192])"
      ]
     },
     "execution_count": 10,
     "metadata": {},
     "output_type": "execute_result"
    }
   ],
   "source": [
    "audio4 = verification.load_audio(\"tests/samples/my_test/4.wav\")\n",
    "embeddings4 = verification.encode_batch(audio4)\n",
    "embeddings4.shape"
   ]
  },
  {
   "cell_type": "markdown",
   "id": "d0d308b8-18e8-4324-b66d-dffeb38b925f",
   "metadata": {},
   "source": [
    "### 1.2.2 计算相似度"
   ]
  },
  {
   "cell_type": "code",
   "execution_count": 11,
   "id": "ac432b3a-d2db-4728-98ff-619a514b5ef0",
   "metadata": {},
   "outputs": [
    {
     "name": "stdout",
     "output_type": "stream",
     "text": [
      "Eembeddings Score: tensor([[0.5786]])\n"
     ]
    }
   ],
   "source": [
    "similarity = torch.nn.CosineSimilarity(dim=-1, eps=1e-6)\n",
    "score = similarity(embeddings1, embeddings2)\n",
    "print(f\"Eembeddings Score: {score}\")"
   ]
  },
  {
   "cell_type": "code",
   "execution_count": 12,
   "id": "36ce7a17-68f6-4ee7-8728-f0ba446c8498",
   "metadata": {},
   "outputs": [
    {
     "name": "stdout",
     "output_type": "stream",
     "text": [
      "Eembeddings Score: tensor([[0.2261]])\n"
     ]
    }
   ],
   "source": [
    "score = similarity(embeddings2, embeddings3)\n",
    "print(f\"Eembeddings Score: {score}\")"
   ]
  },
  {
   "cell_type": "code",
   "execution_count": 13,
   "id": "c9f1ed66-ba06-45d2-8e92-87454fdf05d4",
   "metadata": {},
   "outputs": [
    {
     "name": "stdout",
     "output_type": "stream",
     "text": [
      "Eembeddings Score: tensor([[0.4977]])\n"
     ]
    }
   ],
   "source": [
    "score = similarity(embeddings2, embeddings4)\n",
    "print(f\"Eembeddings Score: {score}\")"
   ]
  },
  {
   "cell_type": "code",
   "execution_count": 14,
   "id": "78ae112f-9b78-445c-94b0-9b3a466458a9",
   "metadata": {},
   "outputs": [
    {
     "name": "stdout",
     "output_type": "stream",
     "text": [
      "Eembeddings Score: tensor([[0.5315]])\n"
     ]
    }
   ],
   "source": [
    "score = similarity(embeddings1, embeddings4)\n",
    "print(f\"Eembeddings Score: {score}\")"
   ]
  },
  {
   "cell_type": "markdown",
   "id": "6ba100ee-700c-453a-b074-57636a618a58",
   "metadata": {},
   "source": [
    "# 2 百度PaddleSpeech"
   ]
  },
  {
   "cell_type": "markdown",
   "id": "c9c5e4af-7d20-4492-bdf7-61b6c485d4ec",
   "metadata": {},
   "source": [
    "## 2.1 测试"
   ]
  },
  {
   "cell_type": "markdown",
   "id": "3f29843d-bbbc-48c6-be3f-8ad6819e7820",
   "metadata": {},
   "source": [
    "#### 同一人不同句子"
   ]
  },
  {
   "cell_type": "code",
   "execution_count": 15,
   "id": "6b9e1a07-4738-412d-971a-cc682b9b283a",
   "metadata": {},
   "outputs": [
    {
     "name": "stdout",
     "output_type": "stream",
     "text": [
      "Eembeddings Score: 0.6716901659965515\n"
     ]
    }
   ],
   "source": [
    "import paddle\n",
    "from paddlespeech.cli.vector import VectorExecutor\n",
    "\n",
    "vector_executor = VectorExecutor()\n",
    "audio_emb = vector_executor(\n",
    "    model='ecapatdnn_voxceleb12',\n",
    "    sample_rate=16000,\n",
    "    config=None,  # Set `config` and `ckpt_path` to None to use pretrained model.\n",
    "    ckpt_path=None,\n",
    "    audio_file='tests/samples/ASR/spk1_snt1.wav',\n",
    "    device=paddle.get_device())\n",
    "# print('Audio embedding Result: \\n{}'.format(audio_emb))\n",
    "\n",
    "test_emb = vector_executor(\n",
    "    model='ecapatdnn_voxceleb12',\n",
    "    sample_rate=16000,\n",
    "    config=None,  # Set `config` and `ckpt_path` to None to use pretrained model.\n",
    "    ckpt_path=None,\n",
    "    audio_file='tests/samples/ASR/spk1_snt6.wav',\n",
    "    device=paddle.get_device())\n",
    "# print('Test embedding Result: \\n{}'.format(test_emb))\n",
    "\n",
    "# score range [0, 1]\n",
    "score = vector_executor.get_embeddings_score(audio_emb, test_emb)\n",
    "print(f\"Eembeddings Score: {score}\")"
   ]
  },
  {
   "cell_type": "markdown",
   "id": "5cb692fb-7d83-4349-bae7-65e9a9352cf8",
   "metadata": {},
   "source": [
    "#### 不同人不同句子"
   ]
  },
  {
   "cell_type": "code",
   "execution_count": 16,
   "id": "11da052d-873d-456c-8351-83abdfe11c21",
   "metadata": {},
   "outputs": [
    {
     "name": "stdout",
     "output_type": "stream",
     "text": [
      "(192,)\n",
      "(192,)\n",
      "Eembeddings Score: 0.08822208642959595\n"
     ]
    }
   ],
   "source": [
    "audio_emb = vector_executor(\n",
    "    model='ecapatdnn_voxceleb12',\n",
    "    sample_rate=16000,\n",
    "    config=None,  # Set `config` and `ckpt_path` to None to use pretrained model.\n",
    "    ckpt_path=None,\n",
    "    audio_file='tests/samples/ASR/spk1_snt1.wav',\n",
    "    device=paddle.get_device())\n",
    "print(audio_emb.shape)\n",
    "\n",
    "test_emb = vector_executor(\n",
    "    model='ecapatdnn_voxceleb12',\n",
    "    sample_rate=16000,\n",
    "    config=None,  # Set `config` and `ckpt_path` to None to use pretrained model.\n",
    "    ckpt_path=None,\n",
    "    audio_file='tests/samples/ASR/spk2_snt6.wav',\n",
    "    device=paddle.get_device())\n",
    "print(test_emb.shape)\n",
    "\n",
    "# score range [0, 1]\n",
    "score = vector_executor.get_embeddings_score(audio_emb, test_emb)\n",
    "print(f\"Eembeddings Score: {score}\")"
   ]
  },
  {
   "cell_type": "code",
   "execution_count": null,
   "id": "03c3e9d4-90d7-431c-8ac0-5c09ef2d79c6",
   "metadata": {},
   "outputs": [],
   "source": []
  }
 ],
 "metadata": {
  "kernelspec": {
   "display_name": "VPR",
   "language": "python",
   "name": "vpr"
  },
  "language_info": {
   "codemirror_mode": {
    "name": "ipython",
    "version": 3
   },
   "file_extension": ".py",
   "mimetype": "text/x-python",
   "name": "python",
   "nbconvert_exporter": "python",
   "pygments_lexer": "ipython3",
   "version": "3.10.12"
  }
 },
 "nbformat": 4,
 "nbformat_minor": 5
}
