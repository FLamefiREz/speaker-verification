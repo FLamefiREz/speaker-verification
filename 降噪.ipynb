{
 "cells": [
  {
   "cell_type": "code",
   "execution_count": 1,
   "id": "f5bf9a60-4ac0-4664-86ce-cfa5d9462671",
   "metadata": {},
   "outputs": [],
   "source": [
    "import torch\n",
    "import torchaudio\n",
    "from speechbrain.pretrained import SpectralMaskEnhancement"
   ]
  },
  {
   "cell_type": "code",
   "execution_count": 3,
   "id": "57ac2a4d-9160-4d4b-b8df-e63d639ce817",
   "metadata": {},
   "outputs": [
    {
     "data": {
      "application/vnd.jupyter.widget-view+json": {
       "model_id": "edb245045ab94940821dd01953e898d0",
       "version_major": 2,
       "version_minor": 0
      },
      "text/plain": [
       "Downloading (…)ain/hyperparams.yaml:   0%|          | 0.00/1.12k [00:00<?, ?B/s]"
      ]
     },
     "metadata": {},
     "output_type": "display_data"
    },
    {
     "data": {
      "application/vnd.jupyter.widget-view+json": {
       "model_id": "ff244de9d7974ffd858fd5dff2b2a7f8",
       "version_major": 2,
       "version_minor": 0
      },
      "text/plain": [
       "Downloading (…)n/enhance_model.ckpt:   0%|          | 0.00/7.59M [00:00<?, ?B/s]"
      ]
     },
     "metadata": {},
     "output_type": "display_data"
    }
   ],
   "source": [
    "enhance_model = SpectralMaskEnhancement.from_hparams(\n",
    "    source=\"speechbrain/metricgan-plus-voicebank\",\n",
    "    savedir=\"pretrained_models/metricgan-plus-voicebank\",\n",
    ")\n",
    "\n",
    "# Load and add fake batch dimension\n",
    "noisy = enhance_model.load_audio(\n",
    "    \"../CMGAN-main/src/data/noisy/chenruoran_1.wav\"\n",
    ").unsqueeze(0)\n",
    "\n",
    "# Add relative length tensor\n",
    "enhanced = enhance_model.enhance_batch(noisy, lengths=torch.tensor([1.]))\n",
    "\n",
    "\n",
    "# Saving enhanced signal on disk\n",
    "torchaudio.save('chenruoran_1.wav', enhanced.cpu(), 16000)"
   ]
  },
  {
   "cell_type": "code",
   "execution_count": null,
   "id": "2fcd8b5b-0cdf-43f0-ac8a-123e1f6fac3e",
   "metadata": {},
   "outputs": [],
   "source": []
  }
 ],
 "metadata": {
  "kernelspec": {
   "display_name": "Python 3 (ipykernel)",
   "language": "python",
   "name": "python3"
  },
  "language_info": {
   "codemirror_mode": {
    "name": "ipython",
    "version": 3
   },
   "file_extension": ".py",
   "mimetype": "text/x-python",
   "name": "python",
   "nbconvert_exporter": "python",
   "pygments_lexer": "ipython3",
   "version": "3.10.12"
  }
 },
 "nbformat": 4,
 "nbformat_minor": 5
}
